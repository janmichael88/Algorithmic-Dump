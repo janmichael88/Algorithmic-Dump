{
 "cells": [
  {
   "cell_type": "code",
   "execution_count": 87,
   "metadata": {},
   "outputs": [],
   "source": [
    "import numpy as np\n",
    "import random"
   ]
  },
  {
   "cell_type": "code",
   "execution_count": 2,
   "metadata": {},
   "outputs": [],
   "source": [
    "# The statespace\n",
    "states = [\"Sleep\",\"Icecream\",\"Run\"]\n",
    "\n",
    "# Possible sequences of events\n",
    "transitionName = [[\"SS\",\"SR\",\"SI\"],[\"RS\",\"RR\",\"RI\"],[\"IS\",\"IR\",\"II\"]]\n",
    "\n",
    "# Probabilities matrix (transition matrix)\n",
    "transitionMatrix = [[0.2,0.6,0.2],[0.1,0.6,0.3],[0.2,0.7,0.1]]"
   ]
  },
  {
   "cell_type": "code",
   "execution_count": 3,
   "metadata": {},
   "outputs": [
    {
     "name": "stdout",
     "output_type": "stream",
     "text": [
      "All is gonna be okay, you should move on!! ;)\n"
     ]
    }
   ],
   "source": [
    "if sum(transitionMatrix[0])+sum(transitionMatrix[1])+sum(transitionMatrix[1]) != 3:\n",
    "    print(\"Somewhere, something went wrong. Transition matrix, perhaps?\")\n",
    "else: print(\"All is gonna be okay, you should move on!! ;)\")"
   ]
  },
  {
   "cell_type": "code",
   "execution_count": 4,
   "metadata": {},
   "outputs": [],
   "source": [
    "matrix = np.vstack(transitionMatrix)"
   ]
  },
  {
   "cell_type": "code",
   "execution_count": 6,
   "metadata": {},
   "outputs": [
    {
     "data": {
      "text/plain": [
       "array([[0.2, 0.6, 0.2],\n",
       "       [0.1, 0.6, 0.3],\n",
       "       [0.2, 0.7, 0.1]])"
      ]
     },
     "execution_count": 6,
     "metadata": {},
     "output_type": "execute_result"
    }
   ],
   "source": [
    "matrix"
   ]
  },
  {
   "cell_type": "code",
   "execution_count": 17,
   "metadata": {},
   "outputs": [],
   "source": [
    "#def a function that implements the markov model to forecase the state\n",
    "#mod\n",
    "\n",
    "def activity_forecast(days):\n",
    "    #chose the starting state\n",
    "    activityToday = 'Sleep'\n",
    "    #print('start state:' + activityToday)\n",
    "    # Shall store the sequence of states taken. So, this only has the starting state for now.\n",
    "    activityList = [activityToday]\n",
    "    i = 0\n",
    "    # To calculate the probability of the activityList\n",
    "    prob = 1\n",
    "    while i != days:\n",
    "        if activityToday == \"Sleep\":\n",
    "            change = np.random.choice(transitionName[0],\n",
    "                                  replace=True,\n",
    "                                 p=transitionMatrix[0])\n",
    "            if change == 'SS':\n",
    "                prob = prob*0.2\n",
    "                activityList.append(\"Sleep\")\n",
    "                pass\n",
    "            elif change == \"SR\":\n",
    "                prob = prob * 0.6\n",
    "                activityToday = \"Run\"\n",
    "                activityList.append(\"Run\")\n",
    "            else:\n",
    "                prob = prob * 0.2\n",
    "                activityToday = \"Icecream\"\n",
    "                activityList.append(\"Icecream\")\n",
    "        elif activityToday == 'Run':\n",
    "            change = np.random.choice(transitionName[1],\n",
    "                                  replace=True,\n",
    "                                 p=transitionMatrix[1])\n",
    "            if change == \"RR\":\n",
    "                prob = prob * 0.5\n",
    "                activityList.append(\"Run\")\n",
    "                pass\n",
    "            elif change == \"RS\":\n",
    "                prob = prob * 0.2\n",
    "                activityToday = \"Sleep\"\n",
    "                activityList.append(\"Sleep\")\n",
    "            else:\n",
    "                prob = prob * 0.3\n",
    "                activityToday = \"Icecream\"\n",
    "                activityList.append(\"Icecream\")\n",
    "        elif activityToday == 'Icecream':\n",
    "            change = np.random.choice(transitionName[2],\n",
    "                                  replace=True,\n",
    "                                 p=transitionMatrix[2])\n",
    "            if change == \"II\":\n",
    "                prob = prob * 0.1\n",
    "                activityList.append(\"Icecream\")\n",
    "                pass\n",
    "            elif change == \"IS\":\n",
    "                prob = prob * 0.2\n",
    "                activityToday = \"Sleep\"\n",
    "                activityList.append(\"Sleep\")\n",
    "            else:\n",
    "                prob = prob * 0.7\n",
    "                activityToday = \"Run\"\n",
    "                activityList.append(\"Run\")\n",
    "        #increment until days are met\n",
    "        i += 1\n",
    "    #print(\"Possible states: \" + str(activityList))\n",
    "    #print(\"End state after \"+ str(days) + \" days: \" + activityToday)\n",
    "    #print(\"Probability of the possible sequence of states: \" + str(prob))\n",
    "    return(activityList)"
   ]
  },
  {
   "cell_type": "code",
   "execution_count": 18,
   "metadata": {},
   "outputs": [
    {
     "data": {
      "text/plain": [
       "['Sleep', 'Run', 'Icecream']"
      ]
     },
     "execution_count": 18,
     "metadata": {},
     "output_type": "execute_result"
    }
   ],
   "source": [
    "activity_forecast(2)"
   ]
  },
  {
   "cell_type": "markdown",
   "metadata": {},
   "source": [
    "You get a random set of transitoins possible along with the proabiility of it happening, starting from state sleep to wtv.\n",
    "Extend the program further ot aybe iteratie for a couple of hundre times with the same starting state, and you can ss the expected proabilit of enidng at any parotuclay start along with its porbailit"
   ]
  },
  {
   "cell_type": "code",
   "execution_count": 35,
   "metadata": {},
   "outputs": [],
   "source": [
    "#run n times\n",
    "#activiy list for d days\n",
    "#store list activies\n",
    "list_activity = []\n",
    "count = 0\n",
    "n = 10000\n",
    "d=6\n",
    "for b in range(1,n):\n",
    "    list_activity.append(activity_forecast(d))"
   ]
  },
  {
   "cell_type": "code",
   "execution_count": 36,
   "metadata": {},
   "outputs": [
    {
     "data": {
      "text/plain": [
       "[['Sleep', 'Run', 'Run', 'Icecream', 'Run', 'Icecream', 'Sleep'],\n",
       " ['Sleep', 'Icecream', 'Run', 'Run', 'Run', 'Run', 'Run'],\n",
       " ['Sleep', 'Run', 'Run', 'Icecream', 'Sleep', 'Run', 'Run'],\n",
       " ['Sleep', 'Sleep', 'Run', 'Icecream', 'Run', 'Run', 'Icecream'],\n",
       " ['Sleep', 'Run', 'Run', 'Run', 'Icecream', 'Run', 'Sleep'],\n",
       " ['Sleep', 'Run', 'Run', 'Run', 'Run', 'Run', 'Run'],\n",
       " ['Sleep', 'Run', 'Run', 'Icecream', 'Run', 'Run', 'Run'],\n",
       " ['Sleep', 'Sleep', 'Run', 'Run', 'Run', 'Run', 'Run'],\n",
       " ['Sleep', 'Run', 'Run', 'Run', 'Run', 'Run', 'Icecream'],\n",
       " ['Sleep', 'Run', 'Run', 'Run', 'Run', 'Icecream', 'Run'],\n",
       " ['Sleep', 'Run', 'Run', 'Sleep', 'Icecream', 'Sleep', 'Icecream'],\n",
       " ['Sleep', 'Icecream', 'Run', 'Icecream', 'Run', 'Run', 'Run'],\n",
       " ['Sleep', 'Sleep', 'Run', 'Sleep', 'Icecream', 'Run', 'Run']]"
      ]
     },
     "execution_count": 36,
     "metadata": {},
     "output_type": "execute_result"
    }
   ],
   "source": [
    "#print a first few of the acitivties\n",
    "list_activity[0:13]"
   ]
  },
  {
   "cell_type": "code",
   "execution_count": 39,
   "metadata": {},
   "outputs": [],
   "source": [
    "#find all objects that made it to run!\n",
    "count = 0\n",
    "for b in list_activity:\n",
    "    if(b[6] == 'Icecream'):\n",
    "        count += 1"
   ]
  },
  {
   "cell_type": "code",
   "execution_count": 40,
   "metadata": {},
   "outputs": [
    {
     "data": {
      "text/plain": [
       "0.2418"
      ]
     },
     "execution_count": 40,
     "metadata": {},
     "output_type": "execute_result"
    }
   ],
   "source": [
    "count/n"
   ]
  },
  {
   "cell_type": "code",
   "execution_count": 25,
   "metadata": {},
   "outputs": [
    {
     "data": {
      "text/plain": [
       "0.62"
      ]
     },
     "execution_count": 25,
     "metadata": {},
     "output_type": "execute_result"
    }
   ],
   "source": [
    "#if we get calculte from sleep to run going through all two states\n",
    "(0.2*0.6) + (0.6*0.6) + (0.2*0.7)"
   ]
  },
  {
   "cell_type": "code",
   "execution_count": 66,
   "metadata": {},
   "outputs": [],
   "source": [
    "a = []\n",
    "for i in range(0,5):\n",
    "    a.append(list(np.repeat(1,5)))\n",
    "matrix = np.vstack(a)"
   ]
  },
  {
   "cell_type": "markdown",
   "metadata": {},
   "source": [
    "Try it with rock, papers, scisscors, lizards, spock"
   ]
  },
  {
   "cell_type": "code",
   "execution_count": 94,
   "metadata": {},
   "outputs": [],
   "source": [
    "#get probabilities across rows\n",
    "def noramlize(matrix):\n",
    "    weights = np.zeros(matrix.shape)\n",
    "    for i in range(0,matrix.shape[0]):\n",
    "        row_sum = np.sum(matrix,axis=1)\n",
    "        for j in range(0,matrix.shape[1]):\n",
    "            weights[i,j] = matrix[i,j] / row_sum[i]\n",
    "    return(weights)"
   ]
  },
  {
   "cell_type": "code",
   "execution_count": 82,
   "metadata": {},
   "outputs": [
    {
     "data": {
      "text/plain": [
       "array([[0.14285714, 0.14285714, 0.14285714, 0.42857143, 0.14285714],\n",
       "       [0.08333333, 0.08333333, 0.08333333, 0.66666667, 0.08333333],\n",
       "       [0.11111111, 0.11111111, 0.11111111, 0.11111111, 0.55555556],\n",
       "       [0.16666667, 0.16666667, 0.33333333, 0.16666667, 0.16666667],\n",
       "       [0.16666667, 0.33333333, 0.16666667, 0.16666667, 0.16666667]])"
      ]
     },
     "execution_count": 82,
     "metadata": {},
     "output_type": "execute_result"
    }
   ],
   "source": [
    "previous_play = 2\n",
    "next_play = 4\n",
    "#update\n",
    "matrix[previous_play,next_play] = matrix[previous_play,next_play] + 1\n",
    "noramlize(matrix)"
   ]
  },
  {
   "cell_type": "code",
   "execution_count": 142,
   "metadata": {},
   "outputs": [],
   "source": [
    "## see how proabilites change\n",
    "games = 13\n",
    "selections = [0,1,2,3,4]\n",
    "probs = [0.1,0.1,0.1,0.1,0]\n",
    "a = []\n",
    "for i in range(0,5):\n",
    "    a.append(list(np.repeat(1,5)))\n",
    "matrix = np.vstack(a)\n",
    "\n",
    "previous_play = 2\n",
    "for i in range(games):\n",
    "    next_play = np.random.choice(selections,1,probs)\n",
    "    #update\n",
    "    matrix[previous_play,next_play] = matrix[previous_play,next_play] + 1\n",
    "    weights = noramlize(matrix)\n",
    "    previous_play = next_play\n",
    "    "
   ]
  },
  {
   "cell_type": "code",
   "execution_count": 143,
   "metadata": {},
   "outputs": [
    {
     "data": {
      "text/plain": [
       "array([[0.14285714, 0.14285714, 0.42857143, 0.14285714, 0.14285714],\n",
       "       [0.25      , 0.125     , 0.125     , 0.125     , 0.375     ],\n",
       "       [0.22222222, 0.11111111, 0.33333333, 0.22222222, 0.11111111],\n",
       "       [0.16666667, 0.33333333, 0.16666667, 0.16666667, 0.16666667],\n",
       "       [0.125     , 0.375     , 0.125     , 0.125     , 0.25      ]])"
      ]
     },
     "execution_count": 143,
     "metadata": {},
     "output_type": "execute_result"
    }
   ],
   "source": [
    "weights"
   ]
  },
  {
   "cell_type": "code",
   "execution_count": 125,
   "metadata": {},
   "outputs": [
    {
     "data": {
      "text/plain": [
       "array([1])"
      ]
     },
     "execution_count": 125,
     "metadata": {},
     "output_type": "execute_result"
    }
   ],
   "source": [
    "np.random.choice(selections,1,probs)"
   ]
  },
  {
   "cell_type": "code",
   "execution_count": 109,
   "metadata": {},
   "outputs": [
    {
     "data": {
      "text/plain": [
       "array([[198, 187, 208, 200, 200],\n",
       "       [199, 192, 186, 200, 215],\n",
       "       [197, 220, 221, 200, 198],\n",
       "       [183, 203, 216, 192, 197],\n",
       "       [216, 190, 204, 199, 204]])"
      ]
     },
     "execution_count": 109,
     "metadata": {},
     "output_type": "execute_result"
    }
   ],
   "source": [
    "matrix"
   ]
  },
  {
   "cell_type": "markdown",
   "metadata": {},
   "source": [
    "https://ipython-books.github.io/131-simulating-a-discrete-time-markov-chain/"
   ]
  },
  {
   "cell_type": "code",
   "execution_count": 144,
   "metadata": {},
   "outputs": [],
   "source": [
    "import numpy as np\n",
    "import matplotlib.pyplot as plt\n",
    "%matplotlib inline"
   ]
  },
  {
   "cell_type": "code",
   "execution_count": 175,
   "metadata": {},
   "outputs": [],
   "source": [
    "N = 1000  # maximum population size\n",
    "a = .6 / N  # birth rate\n",
    "b = .3 / N  # death rate\n",
    "c = .6 / N # killed by bomb"
   ]
  },
  {
   "cell_type": "markdown",
   "metadata": {},
   "source": [
    "Simulate a markov chain on the finite space 0,1...N, each state represents a populations size. The x vector will contain the populations size at each time step. We set the initial state to x0 = 25 (that is, there are 25 individuals on the population at init time)\n",
    "\n",
    "Adding killed by bomb"
   ]
  },
  {
   "cell_type": "code",
   "execution_count": 228,
   "metadata": {},
   "outputs": [],
   "source": [
    "nsteps = 10000\n",
    "x = np.zeros(nsteps)\n",
    "x[0] = 50"
   ]
  },
  {
   "cell_type": "markdown",
   "metadata": {},
   "source": [
    "nowe we simulate our chain. at each time step, there is a new borth with porbailit $\\alpha x_{t}$ and indepdently there is a new death with probabilit $bx_{t}$. these proabilites are proportional to the size of the populations at that time, if the population size reaches 0 or N, the evolution stops"
   ]
  },
  {
   "cell_type": "code",
   "execution_count": 234,
   "metadata": {},
   "outputs": [
    {
     "data": {
      "image/png": "[encoded data removed]",
      "text/plain": [
       "<Figure size 720x576 with 1 Axes>"
      ]
     },
     "metadata": {
      "needs_background": "light"
     },
     "output_type": "display_data"
    }
   ],
   "source": [
    "N = 1000 # maximum population size\n",
    "a = .6 / N  # birth rate\n",
    "b = .4 / N  # death rate\n",
    "c = .2 / N # killed by bomb\n",
    "\n",
    "nsteps = 10000\n",
    "x = np.zeros(nsteps)\n",
    "x[0] = 50\n",
    "\n",
    "for t in range(nsteps-1):\n",
    "    if 0 < x[t] < N -1:\n",
    "        #is there a birth?\n",
    "        birth = np.random.rand() <= a*x[t]\n",
    "        #is there a death\n",
    "        death = np.random.rand() <= b*x[t]\n",
    "        #is there a bombing\n",
    "        bombing = np.random.rand() <= c*x[t]\n",
    "        #update the population size\n",
    "        x[t+1] = x[t] + 1*birth-1*death - 1*bombing\n",
    "    #the evolution stops if we reach $0$ or $n$\n",
    "    else:\n",
    "        x[t+1] = x[t]\n",
    "        \n",
    "plt.figure(figsize=(10,8))\n",
    "plt.plot(x)\n",
    "plt.show()"
   ]
  },
  {
   "cell_type": "markdown",
   "metadata": {},
   "source": [
    "We il simulate indedenent trials of this markov chain. We could run the previous simulation with a loop, but it would be very slow (two next for loops). Instead we vectorize the simulaiton by considering al indepdent trials at once. There is a sinlge loop over time. At every time step, we update all trials simultaneiosuly with vectorized operations on vectors. The x vector now contains the population size of all trials, at a particualr time. At init time, the populations sizers are set to a random numbers between 0 and N:"
   ]
  },
  {
   "cell_type": "code",
   "execution_count": 246,
   "metadata": {},
   "outputs": [],
   "source": [
    "ntrials = 1000\n",
    "x = np.random.randint(size=ntrials, low=0, high=N)\n",
    "N = 1000 # maximum population size\n",
    "a = .6 / N  # birth rate\n",
    "b = .4 / N  # death rate\n",
    "c = .2 / N # killed by bomb"
   ]
  },
  {
   "cell_type": "markdown",
   "metadata": {},
   "source": [
    "We define a function that performs the simulation. At every time step, we find the trials that undergo births and deaths by generating vectors, and we update the population sizes with vector operations:"
   ]
  },
  {
   "cell_type": "code",
   "execution_count": 243,
   "metadata": {},
   "outputs": [],
   "source": [
    "def simulate(x,nsteps):\n",
    "    '''\n",
    "    Run the simulation\n",
    "    '''\n",
    "    for a in range(nsteps-1):\n",
    "        #which trials to updates\n",
    "        upd = (0<x) & (x<N -1)\n",
    "        #in which trials do births occur\n",
    "        birth = 1*(np.random.rand(ntrials) <= a*x)\n",
    "        #how about deaths\n",
    "        death = 1*(np.random.rand(ntrials) <= b*x)\n",
    "        #how about the bombs\n",
    "        bomb = 1*(np.random.rand(ntrials) <= c*x)\n",
    "        #update the population size for all trials\n",
    "        x[upd] += birth[upd] - death[upd] - bomb[upd]"
   ]
  },
  {
   "cell_type": "markdown",
   "metadata": {},
   "source": [
    "Now lets look at the histograms of the population size at different times. These histograms represet thr probailtit distribution of the markov chains, estimated with independent trials (the Monte carlo Method):"
   ]
  },
  {
   "cell_type": "code",
   "execution_count": 244,
   "metadata": {},
   "outputs": [
    {
     "data": {
      "image/png": "[encoded data removed]",
      "text/plain": [
       "<Figure size 864x216 with 3 Axes>"
      ]
     },
     "metadata": {
      "needs_background": "light"
     },
     "output_type": "display_data"
    }
   ],
   "source": [
    "bins = np.linspace(0, N, 25)\n",
    "nsteps_list = [10, 1000, 10000]\n",
    "fig, axes = plt.subplots(1, len(nsteps_list),\n",
    "                         figsize=(12, 3),\n",
    "                         sharey=True)\n",
    "for i, nsteps in enumerate(nsteps_list):\n",
    "    ax = axes[i]\n",
    "    simulate(x, nsteps)\n",
    "    ax.hist(x, bins=bins)\n",
    "    ax.set_xlabel(\"Population size\")\n",
    "    if i == 0:\n",
    "        ax.set_ylabel(\"Histogram\")\n",
    "    ax.set_title(f\"{nsteps} time steps\")"
   ]
  },
  {
   "cell_type": "markdown",
   "metadata": {},
   "source": [
    "Whereas, initally, the population sizes look unfiomrly distributed between 0 and X, they appear to converge to 0 or N after a suffienclty long time. This is because the states 0 and N are absorbing, one reached, tehcain cannot leave these states. Futhermore, these states can be reached from any other state"
   ]
  },
  {
   "cell_type": "markdown",
   "metadata": {},
   "source": [
    "# How it works..\n",
    "\n",
    "Mathematically, a discrete time Markov chain on a space $E$ is a sequence of random variables $X_{1},X_{2}...$ that satisfy the markov property:\n",
    "\n",
    "\\begin{align}\n",
    "\\forall n \\geq 1, P(X_{n+1} | X_{1},X_{2},X_{3}...X_{n}) = P(X_{n+1} | X_{n}). \n",
    "\\end{align}\n",
    "\n",
    "These values form a matrix called the transition matrix. This matrix is the adjanceny matrix of a directed graph called the stats diagram. Every node is a state, and the node $i$ is connectted to the node $j$ if the cain has a non-zero proability of transiton between hese nodes.\n",
    "\n",
    "# Theres more...\n",
    "\n"
   ]
  },
  {
   "cell_type": "markdown",
   "metadata": {},
   "source": [
    "Simulating a single markov cain in python is not particularly efficient becase we need a for loop. However, simulating many indepedent chains following the same proceess can be made efficient with vecotrization and paralleilzation (all tasks are indepndent, this the problem is embarassingly parrallel). This is useful when we are intersted in statistical properties of the chain (example of the monte carlo method).\n"
   ]
  },
  {
   "cell_type": "code",
   "execution_count": 249,
   "metadata": {},
   "outputs": [
    {
     "data": {
      "text/plain": [
       "array([ True,  True,  True,  True,  True,  True,  True,  True,  True,\n",
       "        True,  True,  True,  True,  True,  True,  True,  True,  True,\n",
       "        True,  True,  True,  True,  True,  True,  True,  True,  True,\n",
       "        True,  True,  True,  True,  True,  True,  True,  True,  True,\n",
       "        True,  True,  True,  True,  True,  True,  True,  True,  True,\n",
       "        True,  True,  True,  True,  True,  True,  True,  True,  True,\n",
       "        True,  True,  True,  True,  True,  True,  True,  True,  True,\n",
       "        True,  True,  True,  True,  True,  True,  True,  True,  True,\n",
       "        True,  True,  True,  True,  True,  True,  True,  True,  True,\n",
       "        True,  True,  True,  True,  True,  True,  True,  True,  True,\n",
       "        True,  True,  True,  True,  True,  True,  True,  True,  True,\n",
       "        True,  True,  True,  True,  True,  True,  True,  True,  True,\n",
       "        True,  True,  True,  True,  True,  True,  True,  True,  True,\n",
       "        True,  True,  True,  True,  True,  True,  True,  True,  True,\n",
       "        True,  True,  True,  True,  True,  True,  True,  True,  True,\n",
       "        True,  True,  True,  True,  True,  True,  True,  True,  True,\n",
       "        True,  True,  True,  True,  True,  True,  True,  True,  True,\n",
       "        True,  True,  True,  True,  True,  True,  True,  True,  True,\n",
       "        True,  True,  True,  True,  True,  True,  True,  True,  True,\n",
       "        True,  True,  True,  True,  True,  True,  True,  True,  True,\n",
       "       False,  True,  True,  True,  True,  True,  True,  True,  True,\n",
       "        True,  True,  True,  True,  True,  True,  True,  True,  True,\n",
       "        True,  True,  True,  True,  True,  True,  True,  True,  True,\n",
       "        True,  True,  True,  True,  True,  True,  True,  True,  True,\n",
       "        True,  True,  True,  True,  True,  True,  True,  True,  True,\n",
       "        True,  True,  True,  True,  True,  True,  True,  True,  True,\n",
       "        True,  True,  True,  True,  True,  True,  True,  True,  True,\n",
       "        True,  True,  True,  True,  True,  True,  True,  True,  True,\n",
       "        True,  True,  True,  True,  True,  True,  True,  True,  True,\n",
       "        True,  True,  True,  True,  True,  True,  True,  True,  True,\n",
       "        True,  True,  True,  True,  True,  True,  True,  True,  True,\n",
       "        True,  True,  True,  True,  True,  True,  True,  True,  True,\n",
       "        True,  True,  True,  True,  True,  True,  True,  True,  True,\n",
       "        True,  True,  True,  True,  True,  True,  True,  True,  True,\n",
       "        True,  True,  True,  True,  True,  True,  True,  True,  True,\n",
       "        True,  True,  True,  True,  True,  True,  True,  True,  True,\n",
       "        True,  True,  True,  True,  True,  True,  True,  True,  True,\n",
       "        True,  True,  True,  True,  True,  True,  True,  True,  True,\n",
       "        True,  True,  True,  True,  True,  True,  True,  True,  True,\n",
       "        True,  True,  True,  True,  True,  True,  True,  True,  True,\n",
       "        True,  True,  True,  True,  True,  True,  True,  True,  True,\n",
       "        True,  True,  True,  True,  True,  True,  True,  True,  True,\n",
       "        True,  True,  True,  True,  True,  True,  True,  True,  True,\n",
       "        True,  True,  True,  True,  True,  True,  True,  True,  True,\n",
       "        True,  True,  True,  True,  True,  True,  True,  True,  True,\n",
       "        True,  True,  True,  True,  True,  True,  True,  True,  True,\n",
       "        True,  True,  True,  True,  True,  True,  True,  True,  True,\n",
       "        True,  True,  True,  True,  True,  True,  True,  True,  True,\n",
       "        True,  True,  True,  True,  True,  True,  True,  True,  True,\n",
       "        True,  True,  True,  True,  True,  True,  True,  True,  True,\n",
       "        True,  True,  True,  True,  True,  True,  True,  True,  True,\n",
       "        True,  True,  True,  True,  True,  True,  True,  True,  True,\n",
       "        True,  True,  True,  True,  True,  True,  True,  True,  True,\n",
       "        True,  True,  True,  True,  True,  True,  True,  True,  True,\n",
       "        True,  True,  True,  True,  True,  True,  True,  True,  True,\n",
       "        True,  True,  True,  True,  True,  True,  True,  True,  True,\n",
       "        True,  True,  True,  True,  True,  True,  True,  True,  True,\n",
       "        True,  True,  True,  True,  True,  True,  True,  True,  True,\n",
       "        True,  True,  True,  True,  True,  True,  True,  True,  True,\n",
       "        True,  True,  True,  True,  True,  True,  True,  True,  True,\n",
       "        True,  True,  True,  True,  True,  True,  True,  True,  True,\n",
       "        True,  True,  True,  True,  True,  True,  True,  True,  True,\n",
       "        True,  True,  True,  True,  True,  True,  True,  True,  True,\n",
       "        True,  True,  True,  True,  True,  True,  True,  True,  True,\n",
       "        True,  True,  True,  True,  True,  True,  True,  True,  True,\n",
       "        True,  True,  True,  True,  True,  True,  True,  True,  True,\n",
       "        True,  True,  True,  True,  True,  True,  True,  True,  True,\n",
       "        True,  True,  True,  True,  True,  True,  True,  True,  True,\n",
       "        True,  True,  True,  True,  True,  True,  True,  True,  True,\n",
       "        True,  True,  True,  True,  True,  True,  True,  True,  True,\n",
       "        True,  True,  True,  True,  True,  True,  True,  True,  True,\n",
       "        True,  True,  True,  True,  True,  True,  True,  True,  True,\n",
       "        True,  True,  True,  True,  True,  True,  True,  True,  True,\n",
       "        True,  True,  True,  True,  True,  True,  True,  True,  True,\n",
       "        True,  True,  True,  True,  True,  True,  True,  True,  True,\n",
       "        True,  True,  True,  True,  True,  True,  True,  True,  True,\n",
       "        True,  True,  True,  True,  True,  True,  True,  True,  True,\n",
       "        True,  True,  True,  True,  True,  True,  True,  True,  True,\n",
       "        True,  True,  True,  True,  True,  True,  True,  True,  True,\n",
       "        True,  True,  True,  True,  True,  True,  True,  True,  True,\n",
       "        True,  True,  True,  True,  True,  True,  True,  True,  True,\n",
       "        True,  True,  True,  True,  True,  True,  True,  True,  True,\n",
       "        True,  True,  True,  True,  True,  True,  True,  True,  True,\n",
       "        True,  True,  True,  True,  True,  True,  True,  True,  True,\n",
       "        True,  True,  True,  True,  True,  True,  True,  True,  True,\n",
       "        True,  True,  True,  True,  True,  True,  True,  True,  True,\n",
       "        True,  True,  True,  True,  True,  True,  True,  True,  True,\n",
       "        True,  True,  True,  True,  True,  True,  True,  True,  True,\n",
       "        True,  True,  True,  True,  True,  True,  True,  True,  True,\n",
       "        True,  True,  True,  True,  True,  True,  True,  True,  True,\n",
       "        True,  True,  True,  True,  True,  True,  True,  True,  True,\n",
       "        True,  True,  True,  True,  True,  True,  True,  True,  True,\n",
       "        True,  True,  True,  True,  True,  True,  True,  True,  True,\n",
       "        True,  True,  True,  True,  True,  True,  True,  True,  True,\n",
       "        True,  True,  True,  True,  True,  True,  True,  True,  True,\n",
       "        True,  True,  True,  True,  True,  True,  True,  True,  True,\n",
       "        True,  True,  True,  True,  True,  True,  True,  True,  True,\n",
       "        True,  True,  True,  True,  True,  True,  True,  True,  True,\n",
       "        True,  True,  True,  True,  True,  True,  True,  True,  True,\n",
       "        True,  True,  True,  True,  True,  True,  True,  True,  True,\n",
       "        True,  True,  True,  True,  True,  True,  True,  True,  True,\n",
       "        True,  True,  True,  True,  True,  True,  True,  True,  True,\n",
       "        True,  True,  True,  True,  True,  True,  True,  True,  True,\n",
       "        True,  True,  True,  True,  True,  True,  True,  True,  True,\n",
       "        True,  True,  True,  True,  True,  True,  True,  True,  True,\n",
       "        True,  True,  True,  True,  True,  True,  True,  True,  True,\n",
       "        True,  True,  True,  True,  True,  True,  True,  True,  True,\n",
       "        True,  True,  True,  True,  True,  True,  True,  True,  True,\n",
       "        True,  True,  True,  True,  True,  True,  True,  True,  True,\n",
       "        True,  True,  True,  True,  True,  True,  True,  True,  True,\n",
       "        True,  True,  True,  True,  True,  True,  True,  True,  True,\n",
       "        True])"
      ]
     },
     "execution_count": 249,
     "metadata": {},
     "output_type": "execute_result"
    }
   ],
   "source": [
    "(0<x)"
   ]
  },
  {
   "cell_type": "code",
   "execution_count": null,
   "metadata": {},
   "outputs": [],
   "source": []
  }
 ],
 "metadata": {
  "kernelspec": {
   "display_name": "Python 3",
   "language": "python",
   "name": "python3"
  },
  "language_info": {
   "codemirror_mode": {
    "name": "ipython",
    "version": 3
   },
   "file_extension": ".py",
   "mimetype": "text/x-python",
   "name": "python",
   "nbconvert_exporter": "python",
   "pygments_lexer": "ipython3",
   "version": "3.7.1"
  }
 },
 "nbformat": 4,
 "nbformat_minor": 2
}
